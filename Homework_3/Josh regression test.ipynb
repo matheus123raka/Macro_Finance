{
 "cells": [
  {
   "cell_type": "code",
   "execution_count": 1,
   "id": "8a20fc3a",
   "metadata": {},
   "outputs": [],
   "source": [
    "import pandas as pd\n",
    "import numpy as np\n",
    "from sklearn.linear_model import LinearRegression\n",
    "from sklearn.metrics import r2_score, mean_squared_error\n",
    "import statsmodels.api as sm"
   ]
  },
  {
   "cell_type": "code",
   "execution_count": 2,
   "id": "a2fdeb9c",
   "metadata": {},
   "outputs": [],
   "source": [
    "euro_equity = pd.read_excel('Euro Equity Index (SX5E Index for EURO STOXX50).xlsx')\n",
    "euro_hy = pd.read_excel('European High Yield.xlsx')\n",
    "gold = pd.read_excel('Gold.xlsx')\n",
    "fxy = pd.read_excel('Fxy.xlsx')"
   ]
  },
  {
   "cell_type": "code",
   "execution_count": 3,
   "id": "e57f351e",
   "metadata": {},
   "outputs": [],
   "source": [
    "asset_returns = pd.DataFrame({\n",
    "    'euro_equity': euro_equity['TOT_RETURN_INDEX_GROSS_DVDS'],\n",
    "    'euro_hy': euro_hy['TOT_RETURN_INDEX_GROSS_DVDS'],\n",
    "    'gold': gold['TOT_RETURN_INDEX_GROSS_DVDS'],\n",
    "    'fxy': fxy['TOT_RETURN_INDEX_GROSS_DVDS']\n",
    "})"
   ]
  },
  {
   "cell_type": "code",
   "execution_count": 4,
   "id": "944e33f4",
   "metadata": {},
   "outputs": [],
   "source": [
    "inflation = pd.read_excel('Inflation.xlsx')"
   ]
  },
  {
   "cell_type": "code",
   "execution_count": 5,
   "id": "6e28fb61",
   "metadata": {},
   "outputs": [],
   "source": [
    "macro_data = pd.DataFrame({\n",
    "    'inflation': inflation['TOT_RETURN_INDEX_GROSS_DVDS']\n",
    "})"
   ]
  },
  {
   "cell_type": "code",
   "execution_count": null,
   "id": "cfac13db",
   "metadata": {},
   "outputs": [],
   "source": [
    "data = pd.merge(asset_returns, macro_data, left_index=True, right_index=True, how='inner')\n",
    "\n",
    "X = data[macro_data.columns]\n",
    "Y = data[asset_returns.columns]\n",
    "\n",
    "results = []\n",
    "\n",
    "for asset in Y.columns:\n",
    "    y = Y[asset]\n",
    "\n",
    "    model = sm.OLS(y, X).fit()\n",
    "\n",
    "    results.append({\n",
    "        'Asset': asset,\n",
    "        'R-Squared': model.rsquared,\n",
    "        'Coefficients': model.params,\n",
    "        'P-Values': model.pvalues,\n",
    "        'Adjusted R-Squared': model.rsquared_adj,\n",
    "        'F-Statistic': model.fvalue,\n",
    "        'MSE': mean_squared_error(y, model.fittedvalues)\n",
    "    })\n",
    "\n",
    "regression_results = pd.DataFrame(results)\n",
    "\n",
    "regression_results = regression_results.sort_values(by='R-Squared', ascending=False)\n"
   ]
  },
  {
   "cell_type": "code",
   "execution_count": 9,
   "id": "11df7b76",
   "metadata": {},
   "outputs": [
    {
     "data": {
      "text/html": [
       "<div>\n",
       "<style scoped>\n",
       "    .dataframe tbody tr th:only-of-type {\n",
       "        vertical-align: middle;\n",
       "    }\n",
       "\n",
       "    .dataframe tbody tr th {\n",
       "        vertical-align: top;\n",
       "    }\n",
       "\n",
       "    .dataframe thead th {\n",
       "        text-align: right;\n",
       "    }\n",
       "</style>\n",
       "<table border=\"1\" class=\"dataframe\">\n",
       "  <thead>\n",
       "    <tr style=\"text-align: right;\">\n",
       "      <th></th>\n",
       "      <th>Asset</th>\n",
       "      <th>R-Squared</th>\n",
       "      <th>Coefficients</th>\n",
       "      <th>P-Values</th>\n",
       "      <th>Adjusted R-Squared</th>\n",
       "      <th>F-Statistic</th>\n",
       "      <th>MSE</th>\n",
       "    </tr>\n",
       "  </thead>\n",
       "  <tbody>\n",
       "    <tr>\n",
       "      <th>0</th>\n",
       "      <td>euro_equity</td>\n",
       "      <td>0.445760</td>\n",
       "      <td>inflation    11514.854555\n",
       "dtype: float64</td>\n",
       "      <td>inflation    4.172511e-25\n",
       "dtype: float64</td>\n",
       "      <td>0.442714</td>\n",
       "      <td>146.377419</td>\n",
       "      <td>1.898137e+07</td>\n",
       "    </tr>\n",
       "    <tr>\n",
       "      <th>1</th>\n",
       "      <td>euro_hy</td>\n",
       "      <td>0.428138</td>\n",
       "      <td>inflation    550.764438\n",
       "dtype: float64</td>\n",
       "      <td>inflation    7.344331e-24\n",
       "dtype: float64</td>\n",
       "      <td>0.424995</td>\n",
       "      <td>136.258348</td>\n",
       "      <td>4.665020e+04</td>\n",
       "    </tr>\n",
       "    <tr>\n",
       "      <th>2</th>\n",
       "      <td>gold</td>\n",
       "      <td>0.424999</td>\n",
       "      <td>inflation    296.395909\n",
       "dtype: float64</td>\n",
       "      <td>inflation    1.212922e-23\n",
       "dtype: float64</td>\n",
       "      <td>0.421839</td>\n",
       "      <td>134.521078</td>\n",
       "      <td>1.368481e+04</td>\n",
       "    </tr>\n",
       "    <tr>\n",
       "      <th>3</th>\n",
       "      <td>fxy</td>\n",
       "      <td>0.353407</td>\n",
       "      <td>inflation    160.257419\n",
       "dtype: float64</td>\n",
       "      <td>inflation    5.759145e-19\n",
       "dtype: float64</td>\n",
       "      <td>0.349855</td>\n",
       "      <td>99.475476</td>\n",
       "      <td>5.410098e+03</td>\n",
       "    </tr>\n",
       "  </tbody>\n",
       "</table>\n",
       "</div>"
      ],
      "text/plain": [
       "         Asset  R-Squared                              Coefficients  \\\n",
       "0  euro_equity   0.445760  inflation    11514.854555\n",
       "dtype: float64   \n",
       "1      euro_hy   0.428138    inflation    550.764438\n",
       "dtype: float64   \n",
       "2         gold   0.424999    inflation    296.395909\n",
       "dtype: float64   \n",
       "3          fxy   0.353407    inflation    160.257419\n",
       "dtype: float64   \n",
       "\n",
       "                                   P-Values  Adjusted R-Squared  F-Statistic  \\\n",
       "0  inflation    4.172511e-25\n",
       "dtype: float64            0.442714   146.377419   \n",
       "1  inflation    7.344331e-24\n",
       "dtype: float64            0.424995   136.258348   \n",
       "2  inflation    1.212922e-23\n",
       "dtype: float64            0.421839   134.521078   \n",
       "3  inflation    5.759145e-19\n",
       "dtype: float64            0.349855    99.475476   \n",
       "\n",
       "            MSE  \n",
       "0  1.898137e+07  \n",
       "1  4.665020e+04  \n",
       "2  1.368481e+04  \n",
       "3  5.410098e+03  "
      ]
     },
     "execution_count": 9,
     "metadata": {},
     "output_type": "execute_result"
    }
   ],
   "source": [
    "regression_results"
   ]
  }
 ],
 "metadata": {
  "kernelspec": {
   "display_name": "Python 3",
   "language": "python",
   "name": "python3"
  },
  "language_info": {
   "codemirror_mode": {
    "name": "ipython",
    "version": 3
   },
   "file_extension": ".py",
   "mimetype": "text/x-python",
   "name": "python",
   "nbconvert_exporter": "python",
   "pygments_lexer": "ipython3",
   "version": "3.11.2"
  }
 },
 "nbformat": 4,
 "nbformat_minor": 5
}
